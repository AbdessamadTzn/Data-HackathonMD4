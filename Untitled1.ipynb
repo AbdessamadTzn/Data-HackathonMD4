{
 "cells": [
  {
   "cell_type": "code",
   "execution_count": 1,
   "id": "5fb2ac4b-5b7e-4e78-bb79-5d740b95e06b",
   "metadata": {},
   "outputs": [],
   "source": [
    "# Importation des bibliothéques \n",
    "import pandas as pd \n",
    "import numpy as np \n",
    "import matplotlib as plt \n",
    "import seaborn as sns "
   ]
  },
  {
   "cell_type": "code",
   "execution_count": null,
   "id": "5aa5a123-69b9-435a-aa61-f18f4ba2d95b",
   "metadata": {},
   "outputs": [],
   "source": [
    "#Lecture du fichier csv \n",
    "df = pd.read_csv('mark')"
   ]
  }
 ],
 "metadata": {
  "kernelspec": {
   "display_name": "Python 3 (ipykernel)",
   "language": "python",
   "name": "python3"
  },
  "language_info": {
   "codemirror_mode": {
    "name": "ipython",
    "version": 3
   },
   "file_extension": ".py",
   "mimetype": "text/x-python",
   "name": "python",
   "nbconvert_exporter": "python",
   "pygments_lexer": "ipython3",
   "version": "3.11.9"
  }
 },
 "nbformat": 4,
 "nbformat_minor": 5
}
